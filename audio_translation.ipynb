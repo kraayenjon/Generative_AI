{
 "cells": [
  {
   "cell_type": "markdown",
   "id": "41e31423",
   "metadata": {},
   "source": [
    "# Translating an audio from English to Spanish"
   ]
  },
  {
   "cell_type": "code",
   "execution_count": 63,
   "id": "433dfc7c",
   "metadata": {},
   "outputs": [],
   "source": [
    "from openai import OpenAI\n",
    "from elevenlabs import generate, play, set_api_key, voices, Voice, VoiceSettings\n",
    "import ffmpeg\n",
    "from pydub import AudioSegment\n",
    "from io import BytesIO\n",
    "\n",
    "# Connecting to OpenAI   \n",
    "client = OpenAI(api_key=API_KEY) #Replace for your OpenAI API-KEY\n",
    "\n",
    "\n",
    "# Connecting to ElevenLabs   \n",
    "set_api_key(API_KEY_eleven)  #Replace for your ElevenLabs API-KEY"
   ]
  },
  {
   "cell_type": "markdown",
   "id": "8db05a15",
   "metadata": {},
   "source": [
    "## Translating the audio to text"
   ]
  },
  {
   "cell_type": "code",
   "execution_count": 50,
   "id": "f3af3314",
   "metadata": {},
   "outputs": [],
   "source": [
    "audio_file_eng = open('arnold_speech_vision.mp3', 'rb')  # I've used one of Arnold Schwarzenegger's inspiring speeches as the input audio file\n",
    "\n",
    "# Write an appropriate prompt to help the model understand the audio \n",
    "prompt = \"the audio file is about Arnold Schwarzenegger's speech.\" "
   ]
  },
  {
   "cell_type": "code",
   "execution_count": 51,
   "id": "691b6ff6",
   "metadata": {},
   "outputs": [],
   "source": [
    "# Create a transcription from the audio file\n",
    "response = client.audio.transcriptions.create(model='whisper-1', \n",
    "                                              file = audio_file_eng, \n",
    "                                               prompt=prompt,\n",
    "                                              response_format=\"text\")\n"
   ]
  },
  {
   "cell_type": "code",
   "execution_count": 52,
   "id": "45e7984c",
   "metadata": {},
   "outputs": [
    {
     "data": {
      "text/plain": [
       "\"After the Second World War, we were occupied by America, by France, by Russia, by England. And there was no food around, there was poverty, there was literally, I mean, the worst condition was worse than during the war. And so, in that kind of an environment, it made me feel as a kid always that I wanted to get out of there, and that I deserved better than that. And I always was dreaming about coming to America, America was always the land of opportunity. So I always shot for the top, no matter what it is, I was so hungry for success, I was so hungry to get out of Austria, I was so determined, I had this fire in the belly. And I always, like I said, dreamt big in bodybuilding, when I got into bodybuilding it was not just to become a bodybuilding champion, but I wanted to be the greatest bodybuilder of all times. I always shoot for the top, because I always feel like if you have a great vision, and if you think big, then you're also going to end up big. If you think little, perhaps no one ever has gotten big. You have to have a very clear vision of where you want to go in your career. You cannot get into bodybuilding and think that just by exercising every day, that by accident you're just going to be a world champion. As I said earlier, you have to have a very clear vision, you have to see it in front of you. And then you've got to go and shoot for the stars, the bigger you shoot, the further you go. I wanted to be another Reg Park, I wanted to be in London, winning the Mr. Universe contest. I saw myself with the trophy in my hand, I saw hundreds of bodybuilders around me, looking up at me, idolizing me, and thousands of people up there cheering and standing ovation. That's what I saw. And exactly five years later, with five, six hours of training like a fanatic, I was standing on that stage in London, and I won the Mr. Universe contest at the age of 20, as the youngest Mr. Universe ever. That teaches you right away a lesson, because the lesson was for me, you've got to have a clear vision, and then go after that vision. Why is that important? Because it brings joy to you. Every set that I did, every rep that I did, every 500 pounds I lifted, every thousand sit-ups that I did, brought me joy, because it took me one step closer to turning that vision into reality. So many people don't enjoy their jobs. In America, for instance, in the latest study, it said that 74% of the people in America don't enjoy their jobs. Now imagine, you work all year, and all your life, and you don't enjoy your job. This is because they didn't have a vision in the first place, that's why I say always to young kids, before you go out, after college, or before college, or whatever, think about what you really want to do. Don't listen to your parents, don't listen to your coaches, to your mentors, and all of those things. You can listen to them, but in the end, you have to make the decision, because I tell you, my parents had no interest in bodybuilding at all. My mother and my father wanted me to have the regular Austrian life, they wanted me to follow my father's footsteps, and become a police officer, they wanted me to marry a girl by the name of Heidi, and have five kids, but that's not the life that I wanted. I wanted to go to America, I wanted to be a world champion in bodybuilding, I wanted to get into movies, and be a movie star, and all this. They didn't understand that, and they were totally against all of that. The bottom line is, if you keep focused, and you can see your goal, then it never should be a big problem, because remember, everyone, no matter how successful you are, you will have failures. Don't ever fool yourself. I have had many, many failures, movies that went in the toilet, that didn't work well, in my bodybuilding, I lost competitions, and in my personal life, I have had failures. This is what happens. But what makes you a winner is, that when you fail, you get up again, and you dust yourself off, and you keep going towards your goal. In one word, one word only, how did a small town boy from Austria, become one of the most famous people on earth? Dream. Dream. Dream. I was poor, because I didn't have anything. I had no money, I had no things, we had no TV, we had no refrigerator, we had nothing as kids, but I was rich, because I had a dream. A dream of becoming the greatest bodybuilder, and I had a dream to use bodybuilding as a means to get into films, but I had no idea that it would go as far as it did.\\n\""
      ]
     },
     "execution_count": 52,
     "metadata": {},
     "output_type": "execute_result"
    }
   ],
   "source": [
    "# Printing the full response\n",
    "response"
   ]
  },
  {
   "cell_type": "markdown",
   "id": "b22f3d6f",
   "metadata": {},
   "source": [
    "## Summarizing the main ideas of the Speech & Translating to Spanish"
   ]
  },
  {
   "cell_type": "code",
   "execution_count": 53,
   "id": "1313941f",
   "metadata": {},
   "outputs": [],
   "source": [
    "# Writing the prompt that will ask the chatbot to summarize and translate the text\n",
    "translation_prompt ='Select the most inspiring sentences from the speech and translate to spanish: '\n",
    "\n",
    "# Initiating the chatbot\n",
    "text_to_spanish = client.chat.completions.create(model='gpt-3.5-turbo', \n",
    "                                                 messages =[\n",
    "                                                 {'role':'user',\n",
    "                                                  'content':translation_prompt + text\n",
    "                                                 }]\n",
    "                                                )"
   ]
  },
  {
   "cell_type": "code",
   "execution_count": 54,
   "id": "9a7082f9",
   "metadata": {},
   "outputs": [
    {
     "data": {
      "text/plain": [
       "'Trabaja como loco. No hay una píldora mágica. Me vuelve loco ir al gimnasio. Lee una hora al día. Yo iba y entrenaba cinco horas al día y también trabajaba en construcción. Tú tienes 24 horas al día. Organiza tu día. Trabaja duro. Estoy aquí para hablar sobre el éxito. Fui a la universidad. Iba y entrenaba cinco horas al día y también trabajaba en construcción porque en aquel entonces en el culturismo no había dinero. No tenía dinero para suplementos alimenticios ni nada, así que tenía que trabajar. Así que trabajé en construcción. Fui a la universidad. Entrenaba en el gimnasio y por las noches, desde las ocho de la noche hasta las doce de la noche, iba a clases de actuación cuatro veces a la semana. Así que hice todo eso. No perdí ni un solo minuto. Y es por eso que estoy aquí parado hoy. A los 20 años fui a Londres y gané el concurso de Mr. Universo como el Mr. Universo más joven de la historia. Y fue porque tenía una meta. Verás, si no tienes una visión de adónde vas y si no tienes una meta adonde ir, te derivas y nunca llegarás a ningún lado.'"
      ]
     },
     "execution_count": 54,
     "metadata": {},
     "output_type": "execute_result"
    }
   ],
   "source": [
    "# Response retrieved\n",
    "response_spanish = text_to_spanish.choices[0].message.content\n",
    "\n",
    "response_spanish"
   ]
  },
  {
   "cell_type": "code",
   "execution_count": 64,
   "id": "08e5b675",
   "metadata": {},
   "outputs": [
    {
     "name": "stdout",
     "output_type": "stream",
     "text": [
      "Trabaja como loco.\n",
      "No hay una píldora mágica.\n",
      "Me vuelve loco ir al gimnasio.\n",
      "Lee una hora al día.\n",
      "Yo iba y entrenaba cinco horas al día y también trabajaba en construcción.\n",
      "Tú tienes 24 horas al día.\n",
      "Organiza tu día.\n",
      "Trabaja duro.\n",
      "Estoy aquí para hablar sobre el éxito.\n",
      "Fui a la universidad.\n",
      "Iba y entrenaba cinco horas al día y también trabajaba en construcción porque en aquel entonces en el culturismo no había dinero.\n",
      "No tenía dinero para suplementos alimenticios ni nada, así que tenía que trabajar.\n",
      "Así que trabajé en construcción.\n",
      "Fui a la universidad.\n",
      "Entrenaba en el gimnasio y por las noches, desde las ocho de la noche hasta las doce de la noche, iba a clases de actuación cuatro veces a la semana.\n",
      "Así que hice todo eso.\n",
      "No perdí ni un solo minuto.\n",
      "Y es por eso que estoy aquí parado hoy.\n",
      "A los 20 años fui a Londres y gané el concurso de Mr.\n",
      "Universo como el Mr.\n",
      "Universo más joven de la historia.\n",
      "Y fue porque tenía una meta.\n",
      "Verás, si no tienes una visión de adónde vas y si no tienes una meta adonde ir, te derivas y nunca llegarás a ningún lado.\n"
     ]
    }
   ],
   "source": [
    "# Breaking to response into multiple lines \n",
    "response_spanish = response_spanish.replace('. ', '.\\n')\n",
    "print(response_spanish)"
   ]
  },
  {
   "cell_type": "markdown",
   "id": "ec84e771",
   "metadata": {},
   "source": [
    "## Creating a Spanish Audio from the Translated text"
   ]
  },
  {
   "cell_type": "code",
   "execution_count": 74,
   "id": "b2fcbeff",
   "metadata": {},
   "outputs": [],
   "source": [
    "# selecting the voice id from ElevenLabs \n",
    "voice_id = VOICE_ID # #Replace for the voice id you want to use --> from elevenlabs import voices ... voices = voices(), gets you a list of all available voices\n",
    "\n",
    "# Creating the audio file\n",
    "audio = generate(response_spanish, \n",
    "                 model=\"eleven_multilingual_v2\",  ##different languages\n",
    "                 voice= Voice(\n",
    "                    voice_id=voice_id ,\n",
    "                     settings=VoiceSettings(\n",
    "                                 stability = 0.3,similarity_boost=0.5, style = 0.75,use_speaker_boost=True)\n",
    "                )\n",
    "               )"
   ]
  },
  {
   "cell_type": "markdown",
   "id": "93b1e653",
   "metadata": {},
   "source": [
    "## Playing the generated audio file"
   ]
  },
  {
   "cell_type": "code",
   "execution_count": 76,
   "id": "1b290378",
   "metadata": {},
   "outputs": [],
   "source": [
    "play(audio)"
   ]
  },
  {
   "cell_type": "markdown",
   "id": "1ee3af7b",
   "metadata": {},
   "source": [
    "## Saving the file"
   ]
  },
  {
   "cell_type": "code",
   "execution_count": 77,
   "id": "7586c635",
   "metadata": {},
   "outputs": [],
   "source": [
    "def export_bytes_to_audio(bytes_data, output_path, format=\"mp3\"):\n",
    "    # Convert bytes to BytesIO object\n",
    "    audio_bytes_io = BytesIO(bytes_data)\n",
    "\n",
    "    # Load the audio from BytesIO using pydub\n",
    "    audio = AudioSegment.from_file(audio_bytes_io)\n",
    "\n",
    "    # Export the audio to the specified output path\n",
    "    audio.export(output_path, format=format)\n",
    "\n",
    "filename = 'translated_audio_file.mp3'\n",
    "\n",
    "export_bytes_to_audio(audio, filename)"
   ]
  }
 ],
 "metadata": {
  "kernelspec": {
   "display_name": "Python 3 (ipykernel)",
   "language": "python",
   "name": "python3"
  },
  "language_info": {
   "codemirror_mode": {
    "name": "ipython",
    "version": 3
   },
   "file_extension": ".py",
   "mimetype": "text/x-python",
   "name": "python",
   "nbconvert_exporter": "python",
   "pygments_lexer": "ipython3",
   "version": "3.9.18"
  }
 },
 "nbformat": 4,
 "nbformat_minor": 5
}
